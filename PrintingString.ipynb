{
 "cells": [
  {
   "cell_type": "markdown",
   "id": "2b04afec-de75-4138-965e-0e7637da628f",
   "metadata": {},
   "source": [
    "#Printing String"
   ]
  },
  {
   "cell_type": "code",
   "execution_count": 1,
   "id": "f2db44ef-b9fd-4865-b045-c638d6a73693",
   "metadata": {},
   "outputs": [
    {
     "name": "stdout",
     "output_type": "stream",
     "text": [
      "firstName Padma\n",
      "lastName Priya\n",
      "age 43\n",
      "ocupation Software Engineer\n",
      "skills ['Selenium', 'Karate', 'Basic Java']\n",
      "personal_info {'first_name': 'Lokesh', 'last_name': 'Reddy', 'age': 45, 'country': 'USA', 'city': 'StLouis'}\n"
     ]
    }
   ],
   "source": [
    "firstName = 'Padma'\n",
    "lastName = 'Priya'\n",
    "age = 43\n",
    "ocupation = 'Software Engineer'\n",
    "skills = ['Selenium', 'Karate', 'Basic Java']\n",
    "personal_info = {\n",
    "    'first_name': 'Lokesh',\n",
    "    'last_name': 'Reddy',\n",
    "    'age': 45,\n",
    "    'country' : 'USA',\n",
    "    'city' : 'StLouis'\n",
    "}\n",
    "\n",
    "\n",
    "print('firstName', firstName)\n",
    "print('lastName', lastName)\n",
    "print('age', age)\n",
    "print('ocupation', ocupation)\n",
    "print('skills', skills)\n",
    "print('personal_info', personal_info)"
   ]
  },
  {
   "cell_type": "code",
   "execution_count": null,
   "id": "eb4cacde-b005-49a9-a794-421d6ea558bc",
   "metadata": {},
   "outputs": [],
   "source": []
  },
  {
   "cell_type": "code",
   "execution_count": 2,
   "id": "b899d465-176f-44df-ba2e-4fa22e4fbd9c",
   "metadata": {},
   "outputs": [
    {
     "name": "stdout",
     "output_type": "stream",
     "text": [
      "Padma Priya USA 43 True\n",
      "First name: Padma\n",
      "Last name:  Priya\n",
      "Country:  USA\n",
      "Age:  43\n",
      "Married:  True\n"
     ]
    }
   ],
   "source": [
    "first_name, last_name, country, age, is_married = 'Padma', 'Priya', 'USA', 43, True\n",
    "\n",
    "print(first_name, last_name, country, age, is_married)\n",
    "print('First name:', first_name)\n",
    "print('Last name: ', last_name)\n",
    "print('Country: ', country)\n",
    "print('Age: ', age)\n",
    "print('Married: ', is_married)"
   ]
  },
  {
   "cell_type": "code",
   "execution_count": null,
   "id": "ec2262d8-ad09-4159-a452-f51fabadb324",
   "metadata": {},
   "outputs": [],
   "source": []
  },
  {
   "cell_type": "code",
   "execution_count": 5,
   "id": "0121d43f-a919-4c5e-a744-47d1ed323e30",
   "metadata": {},
   "outputs": [
    {
     "name": "stdout",
     "output_type": "stream",
     "text": [
      "The addition of 20 and 30 is = 50\n"
     ]
    }
   ],
   "source": [
    "num1=20\n",
    "num2=30\n",
    "add=num1+num2\n",
    "print('The addition of',num1,'and',num2,'is =',add)"
   ]
  },
  {
   "cell_type": "code",
   "execution_count": null,
   "id": "1e1f2deb-91ad-48e3-abc9-1a4276c89f37",
   "metadata": {},
   "outputs": [],
   "source": []
  },
  {
   "cell_type": "code",
   "execution_count": 7,
   "id": "57dbc926-426f-41da-8241-76e631431a8d",
   "metadata": {},
   "outputs": [
    {
     "name": "stdout",
     "output_type": "stream",
     "text": [
      "The addition of 20 and 30 is= 50\n"
     ]
    }
   ],
   "source": [
    "num1=20 \n",
    "num2=30\n",
    "add=num1+num2\n",
    "print('The addition of {} and {} is= {}'.format(num1,num2,add))"
   ]
  },
  {
   "cell_type": "code",
   "execution_count": null,
   "id": "5c4a671d-1f2b-42db-80ab-6de9e4e4b592",
   "metadata": {},
   "outputs": [],
   "source": []
  },
  {
   "cell_type": "code",
   "execution_count": 8,
   "id": "afc27f6e-e976-4e85-8c71-2833d26605da",
   "metadata": {},
   "outputs": [
    {
     "name": "stdout",
     "output_type": "stream",
     "text": [
      "hello world good day\n"
     ]
    }
   ],
   "source": [
    "print('hello', end=' ') \n",
    "print('world good day')"
   ]
  },
  {
   "cell_type": "code",
   "execution_count": 9,
   "id": "5eb2a55b-bc3f-4e9f-8036-58d4830015f1",
   "metadata": {},
   "outputs": [
    {
     "name": "stdout",
     "output_type": "stream",
     "text": [
      "hello--->hai--->how are you\n"
     ]
    }
   ],
   "source": [
    "print('hello','hai','how are you',sep='--->')"
   ]
  },
  {
   "cell_type": "code",
   "execution_count": null,
   "id": "33f39736-aaad-417e-b44f-98c40bb718e1",
   "metadata": {},
   "outputs": [],
   "source": []
  },
  {
   "cell_type": "code",
   "execution_count": 12,
   "id": "2ea5f304-1003-4110-a932-b1183bbb7afb",
   "metadata": {},
   "outputs": [
    {
     "name": "stdout",
     "output_type": "stream",
     "text": [
      "Apple&Banana&Bread&Milk\n"
     ]
    }
   ],
   "source": [
    "print('Apple','Banana','Bread', 'Milk',sep='&')"
   ]
  },
  {
   "cell_type": "code",
   "execution_count": null,
   "id": "f916028f-9d16-467f-b232-44270a412e8e",
   "metadata": {},
   "outputs": [],
   "source": []
  },
  {
   "cell_type": "code",
   "execution_count": 14,
   "id": "9d336b97-e33a-43e9-ad9e-5d0df4bc768f",
   "metadata": {},
   "outputs": [
    {
     "name": "stdout",
     "output_type": "stream",
     "text": [
      "1 2 3.\n"
     ]
    }
   ],
   "source": [
    "print(1,2,end=' ')\n",
    "print(3,'.',sep='')"
   ]
  }
 ],
 "metadata": {
  "kernelspec": {
   "display_name": "Python 3 (ipykernel)",
   "language": "python",
   "name": "python3"
  },
  "language_info": {
   "codemirror_mode": {
    "name": "ipython",
    "version": 3
   },
   "file_extension": ".py",
   "mimetype": "text/x-python",
   "name": "python",
   "nbconvert_exporter": "python",
   "pygments_lexer": "ipython3",
   "version": "3.12.7"
  }
 },
 "nbformat": 4,
 "nbformat_minor": 5
}
